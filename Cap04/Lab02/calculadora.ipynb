{
 "cells": [
  {
   "cell_type": "code",
   "execution_count": 16,
   "metadata": {},
   "outputs": [
    {
     "name": "stdout",
     "output_type": "stream",
     "text": [
      "Somar - Digite 1\n",
      "Subtrair - Digite 2\n",
      "Multiplicar - Digite 3\n",
      "Dividir - Digite 4\n",
      "Erro - Coloque um número valido para a operação correspondente que você deseja\n"
     ]
    }
   ],
   "source": [
    "#Projeto calculadora\n",
    "\n",
    "print(\"Somar - Digite 1\")\n",
    "print(\"Subtrair - Digite 2\")\n",
    "print(\"Multiplicar - Digite 3\")\n",
    "print(\"Dividir - Digite 4\")\n",
    "\n",
    "operação = int(input(\"Digite o numero da operação:\"))\n",
    "\n",
    "if operação not in [1, 2, 3, 4]:\n",
    "    print(\"Erro - Coloque um número valido para a operação correspondente que você deseja\")\n",
    "else:\n",
    "    primeiro_num = float(input(\"Digite o primeiro numero:\"))\n",
    "    segundo_num = float(input(\"Digite o segundo numero:\"))\n",
    "    if operação == 1:\n",
    "        calculo = primeiro_num + segundo_num\n",
    "        print(calculo)\n",
    "    elif operação ==2:\n",
    "        calculo = primeiro_num - segundo_num\n",
    "        print(calculo)\n",
    "    elif operação == 3:\n",
    "        calculo = primeiro_num * segundo_num\n",
    "        print(calculo)\n",
    "    elif operação == 4:\n",
    "        calculo = primeiro_num / segundo_num\n",
    "        print(calculo)"
   ]
  },
  {
   "cell_type": "code",
   "execution_count": null,
   "metadata": {},
   "outputs": [],
   "source": []
  }
 ],
 "metadata": {
  "kernelspec": {
   "display_name": "base",
   "language": "python",
   "name": "python3"
  },
  "language_info": {
   "codemirror_mode": {
    "name": "ipython",
    "version": 3
   },
   "file_extension": ".py",
   "mimetype": "text/x-python",
   "name": "python",
   "nbconvert_exporter": "python",
   "pygments_lexer": "ipython3",
   "version": "3.9.13"
  },
  "orig_nbformat": 4
 },
 "nbformat": 4,
 "nbformat_minor": 2
}
